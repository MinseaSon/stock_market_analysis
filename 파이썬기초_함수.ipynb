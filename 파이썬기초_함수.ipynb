{
  "nbformat": 4,
  "nbformat_minor": 0,
  "metadata": {
    "colab": {
      "provenance": [],
      "authorship_tag": "ABX9TyN0RCOnTLpcyRoy+v1Tqehw",
      "include_colab_link": true
    },
    "kernelspec": {
      "name": "python3",
      "display_name": "Python 3"
    },
    "language_info": {
      "name": "python"
    }
  },
  "cells": [
    {
      "cell_type": "markdown",
      "metadata": {
        "id": "view-in-github",
        "colab_type": "text"
      },
      "source": [
        "<a href=\"https://colab.research.google.com/github/MinseaSon/stock_market_analysis/blob/main/%ED%8C%8C%EC%9D%B4%EC%8D%AC%EA%B8%B0%EC%B4%88_%ED%95%A8%EC%88%98.ipynb\" target=\"_parent\"><img src=\"https://colab.research.google.com/assets/colab-badge.svg\" alt=\"Open In Colab\"/></a>"
      ]
    },
    {
      "cell_type": "code",
      "execution_count": null,
      "metadata": {
        "id": "cxppZ92-IIdD"
      },
      "outputs": [],
      "source": [
        "def coffee(temp):\n",
        "    if temp > 0 :\n",
        "        print(\"아이스 아메리카노\")\n",
        "    else:\n",
        "        print(\"따뜻한 아메리카노\")"
      ]
    },
    {
      "cell_type": "code",
      "source": [
        "coffee(30)"
      ],
      "metadata": {
        "id": "POJPCWvOIPwf",
        "colab": {
          "base_uri": "https://localhost:8080/"
        },
        "outputId": "32d44c13-753c-493d-e8bb-047b281ca101"
      },
      "execution_count": 2,
      "outputs": [
        {
          "output_type": "stream",
          "name": "stdout",
          "text": [
            "아이스 아메리카노\n"
          ]
        }
      ]
    },
    {
      "cell_type": "code",
      "source": [
        "coffee(-10)"
      ],
      "metadata": {
        "colab": {
          "base_uri": "https://localhost:8080/"
        },
        "id": "TbPstq4PIynG",
        "outputId": "d4112cf5-9d0e-4460-dda2-545e6e2ffe3c"
      },
      "execution_count": 3,
      "outputs": [
        {
          "output_type": "stream",
          "name": "stdout",
          "text": [
            "따뜻한 아메리카노\n"
          ]
        }
      ]
    },
    {
      "cell_type": "markdown",
      "source": [
        "[문제]\n",
        "1학년 2반의 시험 성적은 다음과 같습니다.\n",
        "\n",
        "[80, 90, 70, 65, 85, 95, 90, 80, 75, 80]\n",
        "\n",
        "시험 문제 중, 한 문제가 잘못 출제되어 모두 5점씩 추가 점수를 받도록 조치를 취했습니다. 변경 후 점수를 반환하는 함수를 만들어 보세요."
      ],
      "metadata": {
        "id": "s5xladT9I7fw"
      }
    },
    {
      "cell_type": "code",
      "source": [
        "def update_scores(scores) :\n",
        "    new_scores = []\n",
        "\n",
        "    for s in scores:\n",
        "        new = s + 5\n",
        "        new_scores.append(new)\n",
        "    return new_scores"
      ],
      "metadata": {
        "id": "YWENsStHI9p-"
      },
      "execution_count": null,
      "outputs": []
    },
    {
      "cell_type": "code",
      "source": [
        "scores = [80, 90, 70, 65, 85, 95, 90, 80, 75, 80]\n",
        "new = update_scores(scores)\n",
        "print(new)"
      ],
      "metadata": {
        "colab": {
          "base_uri": "https://localhost:8080/",
          "height": 138
        },
        "id": "ajNWAyOJJEti",
        "outputId": "04d90dc6-f354-4db6-e161-79591093720e"
      },
      "execution_count": 5,
      "outputs": [
        {
          "output_type": "error",
          "ename": "SyntaxError",
          "evalue": "ignored",
          "traceback": [
            "\u001b[0;36m  File \u001b[0;32m\"<ipython-input-5-c03898b7c791>\"\u001b[0;36m, line \u001b[0;32m2\u001b[0m\n\u001b[0;31m    new = update_scores(scores):\u001b[0m\n\u001b[0m                               ^\u001b[0m\n\u001b[0;31mSyntaxError\u001b[0m\u001b[0;31m:\u001b[0m invalid syntax\n"
          ]
        }
      ]
    },
    {
      "cell_type": "markdown",
      "source": [
        "[문제]\n",
        "영어 단어 또는 문장을 인자로 받아서 대문자와 소문자로 출력하는 함수를 만들어보세요."
      ],
      "metadata": {
        "id": "b2rjM4SpKIy4"
      }
    },
    {
      "cell_type": "code",
      "source": [
        "def change_word_case(word):\n",
        "    upperCase = word.upper()\n",
        "    lowerCase = word.lower()\n",
        "    return upperCase, lowerCase"
      ],
      "metadata": {
        "id": "8Og55BycKKL0"
      },
      "execution_count": 13,
      "outputs": []
    },
    {
      "cell_type": "code",
      "source": [
        "change_word_case(\"I love Seoul.\")"
      ],
      "metadata": {
        "colab": {
          "base_uri": "https://localhost:8080/"
        },
        "id": "PA3OXhkKKRrr",
        "outputId": "3b852a24-b2c4-4320-e37a-f50c3da7e5a3"
      },
      "execution_count": 14,
      "outputs": [
        {
          "output_type": "execute_result",
          "data": {
            "text/plain": [
              "('I LOVE SEOUL.', 'i love seoul.')"
            ]
          },
          "metadata": {},
          "execution_count": 14
        }
      ]
    },
    {
      "cell_type": "code",
      "source": [
        "('I LOVE SEOUL.', 'i love seoul.')"
      ],
      "metadata": {
        "colab": {
          "base_uri": "https://localhost:8080/"
        },
        "id": "MB2fCDtBKX8r",
        "outputId": "7356a286-7de2-46c0-ce5f-d0b31901ddfe"
      },
      "execution_count": 15,
      "outputs": [
        {
          "output_type": "execute_result",
          "data": {
            "text/plain": [
              "('I LOVE SEOUL.', 'i love seoul.')"
            ]
          },
          "metadata": {},
          "execution_count": 15
        }
      ]
    },
    {
      "cell_type": "code",
      "source": [
        "upper, lower = change_word_case(\"I love Seoul.\")\n",
        "print('대문자는 {0} 이고, 소문자는 {1}이야. 나는 대문자 {0} 문구가 적힌 티셔츠를 만들고 싶어'.format(upper, lower))"
      ],
      "metadata": {
        "colab": {
          "base_uri": "https://localhost:8080/"
        },
        "id": "nqxmE_W5Kcai",
        "outputId": "05981bce-d8cd-4f65-ecb9-6fee7f1cdc6b"
      },
      "execution_count": 16,
      "outputs": [
        {
          "output_type": "stream",
          "name": "stdout",
          "text": [
            "대문자는 I LOVE SEOUL. 이고, 소문자는 i love seoul.이야. 나는 대문자 I LOVE SEOUL. 문구가 적힌 티셔츠를 만들고 싶어\n"
          ]
        }
      ]
    },
    {
      "cell_type": "code",
      "source": [
        "upper, _ = change_word_case(\"I love Seoul.\")\n",
        "print('나는 대문자 {0} 문구가 적힌 티셔츠를 만들고 싶어'.format(upper))"
      ],
      "metadata": {
        "colab": {
          "base_uri": "https://localhost:8080/"
        },
        "id": "SC9LgXKgKgRV",
        "outputId": "dcabd4e4-22d8-4f54-dbd7-8dfbb3a967ea"
      },
      "execution_count": 17,
      "outputs": [
        {
          "output_type": "stream",
          "name": "stdout",
          "text": [
            "나는 대문자 I LOVE SEOUL. 문구가 적힌 티셔츠를 만들고 싶어\n"
          ]
        }
      ]
    },
    {
      "cell_type": "markdown",
      "source": [
        "[문제]\n",
        "사용자로부터 키와 성별을 입력 받아서 권장 체중을 화면에 출력하는 함수를 작성하세요.\n",
        "권장 체중은 다음과 같이 계산합니다.\n",
        "\n",
        "남성 권장 체중 = (키 – 100)\n",
        "여성 권장 체중 = (키 – 100) * 0.9"
      ],
      "metadata": {
        "id": "kJ-xobe1K4NP"
      }
    },
    {
      "cell_type": "code",
      "source": [
        "def print_weight(height, man=True):\n",
        "    weight = 0\n",
        "    if man:\n",
        "        weight = (height - 100)\n",
        "    else:\n",
        "        weight = (height - 100) * 0.9\n",
        "    print(\"권장 체중은 {}kg 입니다\".format(weight))"
      ],
      "metadata": {
        "id": "bmHP9EiVK8M7"
      },
      "execution_count": 10,
      "outputs": []
    },
    {
      "cell_type": "code",
      "source": [
        "print_weight(170)"
      ],
      "metadata": {
        "colab": {
          "base_uri": "https://localhost:8080/"
        },
        "id": "syMRcrkVLbCN",
        "outputId": "3e9a4ab6-65fd-431d-f567-e439d426ea67"
      },
      "execution_count": 11,
      "outputs": [
        {
          "output_type": "stream",
          "name": "stdout",
          "text": [
            "권장 체중은 70kg 입니다\n"
          ]
        }
      ]
    },
    {
      "cell_type": "code",
      "source": [
        "print_weight(170, True)"
      ],
      "metadata": {
        "colab": {
          "base_uri": "https://localhost:8080/"
        },
        "id": "0Uc5x77eL01z",
        "outputId": "efe5822e-edeb-4bc7-9338-3ba80d0fe191"
      },
      "execution_count": 12,
      "outputs": [
        {
          "output_type": "stream",
          "name": "stdout",
          "text": [
            "권장 체중은 70kg 입니다\n"
          ]
        }
      ]
    }
  ]
}