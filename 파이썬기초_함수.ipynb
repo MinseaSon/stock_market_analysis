{
  "nbformat": 4,
  "nbformat_minor": 0,
  "metadata": {
    "colab": {
      "provenance": [],
      "authorship_tag": "ABX9TyNGjbD2THEj/th/lCcYDz36",
      "include_colab_link": true
    },
    "kernelspec": {
      "name": "python3",
      "display_name": "Python 3"
    },
    "language_info": {
      "name": "python"
    }
  },
  "cells": [
    {
      "cell_type": "markdown",
      "metadata": {
        "id": "view-in-github",
        "colab_type": "text"
      },
      "source": [
        "<a href=\"https://colab.research.google.com/github/MinseaSon/stock_market_analysis/blob/main/%ED%8C%8C%EC%9D%B4%EC%8D%AC%EA%B8%B0%EC%B4%88_%ED%95%A8%EC%88%98.ipynb\" target=\"_parent\"><img src=\"https://colab.research.google.com/assets/colab-badge.svg\" alt=\"Open In Colab\"/></a>"
      ]
    },
    {
      "cell_type": "code",
      "execution_count": null,
      "metadata": {
        "id": "cxppZ92-IIdD"
      },
      "outputs": [],
      "source": [
        "def coffee(temp):\n",
        "    if temp > 0 :\n",
        "        print(\"아이스 아메리카노\")\n",
        "    else:\n",
        "        print(\"따뜻한 아메리카노\")"
      ]
    },
    {
      "cell_type": "code",
      "source": [
        "coffee(30)"
      ],
      "metadata": {
        "id": "POJPCWvOIPwf",
        "colab": {
          "base_uri": "https://localhost:8080/"
        },
        "outputId": "32d44c13-753c-493d-e8bb-047b281ca101"
      },
      "execution_count": 2,
      "outputs": [
        {
          "output_type": "stream",
          "name": "stdout",
          "text": [
            "아이스 아메리카노\n"
          ]
        }
      ]
    },
    {
      "cell_type": "code",
      "source": [
        "coffee(-10)"
      ],
      "metadata": {
        "colab": {
          "base_uri": "https://localhost:8080/"
        },
        "id": "TbPstq4PIynG",
        "outputId": "d4112cf5-9d0e-4460-dda2-545e6e2ffe3c"
      },
      "execution_count": 3,
      "outputs": [
        {
          "output_type": "stream",
          "name": "stdout",
          "text": [
            "따뜻한 아메리카노\n"
          ]
        }
      ]
    },
    {
      "cell_type": "markdown",
      "source": [
        "[문제]\n",
        "1학년 2반의 시험 성적은 다음과 같습니다.\n",
        "\n",
        "[80, 90, 70, 65, 85, 95, 90, 80, 75, 80]\n",
        "\n",
        "시험 문제 중, 한 문제가 잘못 출제되어 모두 5점씩 추가 점수를 받도록 조치를 취했습니다. 변경 후 점수를 반환하는 함수를 만들어 보세요."
      ],
      "metadata": {
        "id": "s5xladT9I7fw"
      }
    },
    {
      "cell_type": "code",
      "source": [
        "def update_scores(scores) :\n",
        "    new_scores = []\n",
        "\n",
        "    for s in scores:\n",
        "        new = s + 5\n",
        "        new_scores.append(new)\n",
        "    return new_scores"
      ],
      "metadata": {
        "id": "YWENsStHI9p-"
      },
      "execution_count": null,
      "outputs": []
    },
    {
      "cell_type": "code",
      "source": [
        "scores = [80, 90, 70, 65, 85, 95, 90, 80, 75, 80]\n",
        "new = update_scores(scores)\n",
        "print(new)"
      ],
      "metadata": {
        "colab": {
          "base_uri": "https://localhost:8080/",
          "height": 138
        },
        "id": "ajNWAyOJJEti",
        "outputId": "04d90dc6-f354-4db6-e161-79591093720e"
      },
      "execution_count": 5,
      "outputs": [
        {
          "output_type": "error",
          "ename": "SyntaxError",
          "evalue": "ignored",
          "traceback": [
            "\u001b[0;36m  File \u001b[0;32m\"<ipython-input-5-c03898b7c791>\"\u001b[0;36m, line \u001b[0;32m2\u001b[0m\n\u001b[0;31m    new = update_scores(scores):\u001b[0m\n\u001b[0m                               ^\u001b[0m\n\u001b[0;31mSyntaxError\u001b[0m\u001b[0;31m:\u001b[0m invalid syntax\n"
          ]
        }
      ]
    },
    {
      "cell_type": "markdown",
      "source": [
        "[문제]\n",
        "영어 단어 또는 문장을 인자로 받아서 대문자와 소문자로 출력하는 함수를 만들어보세요."
      ],
      "metadata": {
        "id": "b2rjM4SpKIy4"
      }
    },
    {
      "cell_type": "code",
      "source": [
        "def change_word_case(word):\n",
        "    upperCase = word.upper()\n",
        "    lowerCase = word.lower()\n",
        "    return upperCase, lowerCase"
      ],
      "metadata": {
        "id": "8Og55BycKKL0"
      },
      "execution_count": 13,
      "outputs": []
    },
    {
      "cell_type": "code",
      "source": [
        "change_word_case(\"I love Seoul.\")"
      ],
      "metadata": {
        "colab": {
          "base_uri": "https://localhost:8080/"
        },
        "id": "PA3OXhkKKRrr",
        "outputId": "3b852a24-b2c4-4320-e37a-f50c3da7e5a3"
      },
      "execution_count": 14,
      "outputs": [
        {
          "output_type": "execute_result",
          "data": {
            "text/plain": [
              "('I LOVE SEOUL.', 'i love seoul.')"
            ]
          },
          "metadata": {},
          "execution_count": 14
        }
      ]
    },
    {
      "cell_type": "code",
      "source": [
        "('I LOVE SEOUL.', 'i love seoul.')"
      ],
      "metadata": {
        "colab": {
          "base_uri": "https://localhost:8080/"
        },
        "id": "MB2fCDtBKX8r",
        "outputId": "7356a286-7de2-46c0-ce5f-d0b31901ddfe"
      },
      "execution_count": 15,
      "outputs": [
        {
          "output_type": "execute_result",
          "data": {
            "text/plain": [
              "('I LOVE SEOUL.', 'i love seoul.')"
            ]
          },
          "metadata": {},
          "execution_count": 15
        }
      ]
    },
    {
      "cell_type": "code",
      "source": [
        "upper, lower = change_word_case(\"I love Seoul.\")\n",
        "print('대문자는 {0} 이고, 소문자는 {1}이야. 나는 대문자 {0} 문구가 적힌 티셔츠를 만들고 싶어'.format(upper, lower))"
      ],
      "metadata": {
        "colab": {
          "base_uri": "https://localhost:8080/"
        },
        "id": "nqxmE_W5Kcai",
        "outputId": "05981bce-d8cd-4f65-ecb9-6fee7f1cdc6b"
      },
      "execution_count": 16,
      "outputs": [
        {
          "output_type": "stream",
          "name": "stdout",
          "text": [
            "대문자는 I LOVE SEOUL. 이고, 소문자는 i love seoul.이야. 나는 대문자 I LOVE SEOUL. 문구가 적힌 티셔츠를 만들고 싶어\n"
          ]
        }
      ]
    },
    {
      "cell_type": "code",
      "source": [
        "upper, _ = change_word_case(\"I love Seoul.\")\n",
        "print('나는 대문자 {0} 문구가 적힌 티셔츠를 만들고 싶어'.format(upper))"
      ],
      "metadata": {
        "colab": {
          "base_uri": "https://localhost:8080/"
        },
        "id": "SC9LgXKgKgRV",
        "outputId": "dcabd4e4-22d8-4f54-dbd7-8dfbb3a967ea"
      },
      "execution_count": 17,
      "outputs": [
        {
          "output_type": "stream",
          "name": "stdout",
          "text": [
            "나는 대문자 I LOVE SEOUL. 문구가 적힌 티셔츠를 만들고 싶어\n"
          ]
        }
      ]
    },
    {
      "cell_type": "markdown",
      "source": [
        "[문제]\n",
        "사용자로부터 키와 성별을 입력 받아서 권장 체중을 화면에 출력하는 함수를 작성하세요.\n",
        "권장 체중은 다음과 같이 계산합니다.\n",
        "\n",
        "남성 권장 체중 = (키 – 100)\n",
        "여성 권장 체중 = (키 – 100) * 0.9"
      ],
      "metadata": {
        "id": "kJ-xobe1K4NP"
      }
    },
    {
      "cell_type": "code",
      "source": [
        "def print_weight(height, man=True):\n",
        "    weight = 0\n",
        "    if man:\n",
        "        weight = (height - 100)\n",
        "    else:\n",
        "        weight = (height - 100) * 0.9\n",
        "    print(\"권장 체중은 {}kg 입니다\".format(weight))"
      ],
      "metadata": {
        "id": "bmHP9EiVK8M7"
      },
      "execution_count": 10,
      "outputs": []
    },
    {
      "cell_type": "code",
      "source": [
        "print_weight(170)"
      ],
      "metadata": {
        "colab": {
          "base_uri": "https://localhost:8080/"
        },
        "id": "syMRcrkVLbCN",
        "outputId": "3e9a4ab6-65fd-431d-f567-e439d426ea67"
      },
      "execution_count": 11,
      "outputs": [
        {
          "output_type": "stream",
          "name": "stdout",
          "text": [
            "권장 체중은 70kg 입니다\n"
          ]
        }
      ]
    },
    {
      "cell_type": "code",
      "source": [
        "print_weight(170, True)"
      ],
      "metadata": {
        "colab": {
          "base_uri": "https://localhost:8080/"
        },
        "id": "0Uc5x77eL01z",
        "outputId": "efe5822e-edeb-4bc7-9338-3ba80d0fe191"
      },
      "execution_count": 12,
      "outputs": [
        {
          "output_type": "stream",
          "name": "stdout",
          "text": [
            "권장 체중은 70kg 입니다\n"
          ]
        }
      ]
    },
    {
      "cell_type": "code",
      "source": [
        "(lambda x : x + 5)(100)"
      ],
      "metadata": {
        "colab": {
          "base_uri": "https://localhost:8080/"
        },
        "id": "ur7jq-3nNOHT",
        "outputId": "08062b1d-00fd-4770-ebf2-f87d4a6a4e70"
      },
      "execution_count": 18,
      "outputs": [
        {
          "output_type": "execute_result",
          "data": {
            "text/plain": [
              "105"
            ]
          },
          "metadata": {},
          "execution_count": 18
        }
      ]
    },
    {
      "cell_type": "code",
      "source": [
        "sum5 = lambda x : x + 5\n",
        "print(sum5(100))"
      ],
      "metadata": {
        "colab": {
          "base_uri": "https://localhost:8080/"
        },
        "id": "O_-AunMiNTVb",
        "outputId": "4da60c59-64a0-4997-e767-c8e5f118b4b3"
      },
      "execution_count": 19,
      "outputs": [
        {
          "output_type": "stream",
          "name": "stdout",
          "text": [
            "105\n"
          ]
        }
      ]
    },
    {
      "cell_type": "code",
      "source": [
        "multiply = lambda x, y : x * y\n",
        "print(multiply(4, 5))"
      ],
      "metadata": {
        "colab": {
          "base_uri": "https://localhost:8080/"
        },
        "id": "mWqX7kN-NZc4",
        "outputId": "f780be08-91dd-4a64-b5da-7c83b8c3cf5a"
      },
      "execution_count": 20,
      "outputs": [
        {
          "output_type": "stream",
          "name": "stdout",
          "text": [
            "20\n"
          ]
        }
      ]
    },
    {
      "cell_type": "code",
      "source": [
        "(lambda x, y : x * y)(4,5)"
      ],
      "metadata": {
        "colab": {
          "base_uri": "https://localhost:8080/"
        },
        "id": "R4p7y03PNc1E",
        "outputId": "2d808493-3815-4a3e-b243-7618cd3ce37f"
      },
      "execution_count": 21,
      "outputs": [
        {
          "output_type": "execute_result",
          "data": {
            "text/plain": [
              "20"
            ]
          },
          "metadata": {},
          "execution_count": 21
        }
      ]
    },
    {
      "cell_type": "code",
      "source": [
        "wieght = lambda height: (height-100)*0.9\n",
        "print(wieght(170))"
      ],
      "metadata": {
        "colab": {
          "base_uri": "https://localhost:8080/"
        },
        "id": "_F0tTGZMNkuE",
        "outputId": "4058a391-6255-4dd1-b521-285ab378c8e1"
      },
      "execution_count": 22,
      "outputs": [
        {
          "output_type": "stream",
          "name": "stdout",
          "text": [
            "63.0\n"
          ]
        }
      ]
    },
    {
      "cell_type": "code",
      "source": [
        "(lambda height : (height - 100) * 0.9)(170)"
      ],
      "metadata": {
        "colab": {
          "base_uri": "https://localhost:8080/"
        },
        "id": "Qumerh8YNpNw",
        "outputId": "1908a5fc-6d76-4967-b6db-127ee6d715b8"
      },
      "execution_count": 23,
      "outputs": [
        {
          "output_type": "execute_result",
          "data": {
            "text/plain": [
              "63.0"
            ]
          },
          "metadata": {},
          "execution_count": 23
        }
      ]
    },
    {
      "cell_type": "code",
      "source": [
        "text = \"나는 자랑스러운 태극기 앞에 자유롭고 정의로운 대한민국의 무궁한 영광을 위하여 충성을 다할 것을 굳게 다짐합니다.\"\n",
        "text.split(\" \") # 공백을 구분자로 하여 문장을 쪼갬"
      ],
      "metadata": {
        "colab": {
          "base_uri": "https://localhost:8080/"
        },
        "id": "e4GdziISN5uN",
        "outputId": "1555f031-1364-40d4-c7c4-7ee738d61c03"
      },
      "execution_count": 24,
      "outputs": [
        {
          "output_type": "execute_result",
          "data": {
            "text/plain": [
              "['나는',\n",
              " '자랑스러운',\n",
              " '태극기',\n",
              " '앞에',\n",
              " '자유롭고',\n",
              " '정의로운',\n",
              " '대한민국의',\n",
              " '무궁한',\n",
              " '영광을',\n",
              " '위하여',\n",
              " '충성을',\n",
              " '다할',\n",
              " '것을',\n",
              " '굳게',\n",
              " '다짐합니다.']"
            ]
          },
          "metadata": {},
          "execution_count": 24
        }
      ]
    },
    {
      "cell_type": "code",
      "source": [
        "text = \"+82-10-1234-5678\"\n",
        "text.split(\"-\") #\"-\"을 구분자로 하여 문장을 쪼갬"
      ],
      "metadata": {
        "colab": {
          "base_uri": "https://localhost:8080/"
        },
        "id": "DZLQIMikOIKP",
        "outputId": "a45fe6b1-93a7-4386-be7b-147a51e77dc6"
      },
      "execution_count": 25,
      "outputs": [
        {
          "output_type": "execute_result",
          "data": {
            "text/plain": [
              "['+82', '10', '1234', '5678']"
            ]
          },
          "metadata": {},
          "execution_count": 25
        }
      ]
    },
    {
      "cell_type": "code",
      "source": [
        "text.split(\"-\", 2)"
      ],
      "metadata": {
        "colab": {
          "base_uri": "https://localhost:8080/"
        },
        "id": "wZAdtB71OPLR",
        "outputId": "b8d45d20-59aa-413d-a21a-9e11cd8a9aea"
      },
      "execution_count": 26,
      "outputs": [
        {
          "output_type": "execute_result",
          "data": {
            "text/plain": [
              "['+82', '10', '1234-5678']"
            ]
          },
          "metadata": {},
          "execution_count": 26
        }
      ]
    },
    {
      "cell_type": "code",
      "source": [
        "text = \"     토실토실 아기 돼지    \"\n",
        "text.strip()"
      ],
      "metadata": {
        "colab": {
          "base_uri": "https://localhost:8080/",
          "height": 36
        },
        "id": "UR_QxX6IOlSF",
        "outputId": "a2bf0738-82dc-4ed2-9a64-9691a1b8de70"
      },
      "execution_count": 27,
      "outputs": [
        {
          "output_type": "execute_result",
          "data": {
            "text/plain": [
              "'토실토실 아기 돼지'"
            ],
            "application/vnd.google.colaboratory.intrinsic+json": {
              "type": "string"
            }
          },
          "metadata": {},
          "execution_count": 27
        }
      ]
    },
    {
      "cell_type": "code",
      "source": [
        "text = \"\\n\\n\\n\\n토실토실 아기 돼지\\n\\n\\n\\n\"\n",
        "text.strip(\"\\n\")"
      ],
      "metadata": {
        "colab": {
          "base_uri": "https://localhost:8080/",
          "height": 36
        },
        "id": "ixU5PJOIOqN4",
        "outputId": "72ee2dcb-6989-423f-b2ba-e2ea267edab9"
      },
      "execution_count": 28,
      "outputs": [
        {
          "output_type": "execute_result",
          "data": {
            "text/plain": [
              "'토실토실 아기 돼지'"
            ],
            "application/vnd.google.colaboratory.intrinsic+json": {
              "type": "string"
            }
          },
          "metadata": {},
          "execution_count": 28
        }
      ]
    },
    {
      "cell_type": "code",
      "source": [
        "text = \"XXaaaaa토실토실 아기 돼지aaaaa\"\n",
        "text.strip(\"a\")"
      ],
      "metadata": {
        "colab": {
          "base_uri": "https://localhost:8080/",
          "height": 36
        },
        "id": "abLBdOjeOuTq",
        "outputId": "a2a689fb-11ee-4776-c2cb-213f3d347c14"
      },
      "execution_count": 29,
      "outputs": [
        {
          "output_type": "execute_result",
          "data": {
            "text/plain": [
              "'XXaaaaa토실토실 아기 돼지'"
            ],
            "application/vnd.google.colaboratory.intrinsic+json": {
              "type": "string"
            }
          },
          "metadata": {},
          "execution_count": 29
        }
      ]
    },
    {
      "cell_type": "code",
      "source": [
        "text = \"ababab토실토실 아기 돼지ababab\"\n",
        "text.strip(\"ab\")"
      ],
      "metadata": {
        "colab": {
          "base_uri": "https://localhost:8080/",
          "height": 36
        },
        "id": "9NqBSX8HO1Ce",
        "outputId": "5e9b4760-c4a5-4438-8673-31465fc27c8d"
      },
      "execution_count": 30,
      "outputs": [
        {
          "output_type": "execute_result",
          "data": {
            "text/plain": [
              "'토실토실 아기 돼지'"
            ],
            "application/vnd.google.colaboratory.intrinsic+json": {
              "type": "string"
            }
          },
          "metadata": {},
          "execution_count": 30
        }
      ]
    },
    {
      "cell_type": "code",
      "source": [
        "text = \"ssss토실토실 아기 돼지sssss\"\n",
        "text.lstrip('s')"
      ],
      "metadata": {
        "colab": {
          "base_uri": "https://localhost:8080/",
          "height": 36
        },
        "id": "35_74FJnO465",
        "outputId": "e37be249-df9b-42e0-9346-6a273976722d"
      },
      "execution_count": 31,
      "outputs": [
        {
          "output_type": "execute_result",
          "data": {
            "text/plain": [
              "'토실토실 아기 돼지sssss'"
            ],
            "application/vnd.google.colaboratory.intrinsic+json": {
              "type": "string"
            }
          },
          "metadata": {},
          "execution_count": 31
        }
      ]
    },
    {
      "cell_type": "code",
      "source": [
        "text1 = \"->\"\n",
        "text2 = [\"인천\", \"도쿄\", \"뉴욕\", \"파리\"]\n",
        "text1.join(text2)"
      ],
      "metadata": {
        "colab": {
          "base_uri": "https://localhost:8080/",
          "height": 36
        },
        "id": "hj00UgvLO9ci",
        "outputId": "ec885645-cc8c-49fe-9f77-3e7a841d52ce"
      },
      "execution_count": 32,
      "outputs": [
        {
          "output_type": "execute_result",
          "data": {
            "text/plain": [
              "'인천->도쿄->뉴욕->파리'"
            ],
            "application/vnd.google.colaboratory.intrinsic+json": {
              "type": "string"
            }
          },
          "metadata": {},
          "execution_count": 32
        }
      ]
    },
    {
      "cell_type": "code",
      "source": [
        "text1 = \"*\"\n",
        "text2 = [\"인천\", \"도쿄\", \"뉴욕\", \"파리\"]\n",
        "text1.join(text2)"
      ],
      "metadata": {
        "colab": {
          "base_uri": "https://localhost:8080/",
          "height": 36
        },
        "id": "ny8__qgzPIHW",
        "outputId": "72a5ff41-5bec-4cfc-fd19-2f3ff1c4275c"
      },
      "execution_count": 33,
      "outputs": [
        {
          "output_type": "execute_result",
          "data": {
            "text/plain": [
              "'인천*도쿄*뉴욕*파리'"
            ],
            "application/vnd.google.colaboratory.intrinsic+json": {
              "type": "string"
            }
          },
          "metadata": {},
          "execution_count": 33
        }
      ]
    },
    {
      "cell_type": "code",
      "source": [
        "text = \"송아지 송아지 얼룩 송아지\"\n",
        "text.find(\"지\")"
      ],
      "metadata": {
        "colab": {
          "base_uri": "https://localhost:8080/"
        },
        "id": "DSc7PTe8PO3g",
        "outputId": "423dfbb8-86ba-4883-dc1c-cb88c332d79d"
      },
      "execution_count": 34,
      "outputs": [
        {
          "output_type": "execute_result",
          "data": {
            "text/plain": [
              "2"
            ]
          },
          "metadata": {},
          "execution_count": 34
        }
      ]
    },
    {
      "cell_type": "code",
      "source": [
        "text = \"송아지 송아지 얼룩 송아지\"\n",
        "text.find(\"금\")"
      ],
      "metadata": {
        "colab": {
          "base_uri": "https://localhost:8080/"
        },
        "id": "lAvCwo_1PTFc",
        "outputId": "9ef0702d-3b1b-4fc7-d482-998d75af0c06"
      },
      "execution_count": 35,
      "outputs": [
        {
          "output_type": "execute_result",
          "data": {
            "text/plain": [
              "-1"
            ]
          },
          "metadata": {},
          "execution_count": 35
        }
      ]
    },
    {
      "cell_type": "code",
      "source": [
        "animals = ['강아지', '송아지', '돼지']\n",
        "\n",
        "for i in animals:\n",
        "    print(i.startswith('강'))"
      ],
      "metadata": {
        "colab": {
          "base_uri": "https://localhost:8080/"
        },
        "id": "Z1yH7zY7Pssw",
        "outputId": "19b89ea1-f4f8-4534-b223-ca04870ead2d"
      },
      "execution_count": 37,
      "outputs": [
        {
          "output_type": "stream",
          "name": "stdout",
          "text": [
            "True\n",
            "False\n",
            "False\n"
          ]
        }
      ]
    },
    {
      "cell_type": "code",
      "source": [
        "animals = ['강아지', '송아지', '돼지']\n",
        "\n",
        "for i in animals:\n",
        "    print(i.endswith('지'))"
      ],
      "metadata": {
        "id": "-Wc0_TE1PxRn"
      },
      "execution_count": null,
      "outputs": []
    },
    {
      "cell_type": "code",
      "source": [
        "text = 'Coffee'\n",
        "text.lower()"
      ],
      "metadata": {
        "colab": {
          "base_uri": "https://localhost:8080/",
          "height": 36
        },
        "id": "8SX91ZmvP7JZ",
        "outputId": "563e1196-094b-4416-8f01-60df521d8e87"
      },
      "execution_count": 38,
      "outputs": [
        {
          "output_type": "execute_result",
          "data": {
            "text/plain": [
              "'coffee'"
            ],
            "application/vnd.google.colaboratory.intrinsic+json": {
              "type": "string"
            }
          },
          "metadata": {},
          "execution_count": 38
        }
      ]
    },
    {
      "cell_type": "code",
      "source": [],
      "metadata": {
        "id": "h84LxpyJP-SM"
      },
      "execution_count": null,
      "outputs": []
    }
  ]
}