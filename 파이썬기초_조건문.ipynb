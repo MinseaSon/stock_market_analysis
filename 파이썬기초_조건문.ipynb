{
  "nbformat": 4,
  "nbformat_minor": 0,
  "metadata": {
    "colab": {
      "provenance": [],
      "authorship_tag": "ABX9TyOQ3ZPRqj4zW5im4wMi36ae",
      "include_colab_link": true
    },
    "kernelspec": {
      "name": "python3",
      "display_name": "Python 3"
    },
    "language_info": {
      "name": "python"
    }
  },
  "cells": [
    {
      "cell_type": "markdown",
      "metadata": {
        "id": "view-in-github",
        "colab_type": "text"
      },
      "source": [
        "<a href=\"https://colab.research.google.com/github/MinseaSon/stock_market_analysis/blob/main/%ED%8C%8C%EC%9D%B4%EC%8D%AC%EA%B8%B0%EC%B4%88_%EC%A1%B0%EA%B1%B4%EB%AC%B8.ipynb\" target=\"_parent\"><img src=\"https://colab.research.google.com/assets/colab-badge.svg\" alt=\"Open In Colab\"/></a>"
      ]
    },
    {
      "cell_type": "code",
      "execution_count": 4,
      "metadata": {
        "colab": {
          "base_uri": "https://localhost:8080/"
        },
        "id": "qWkw9AAj8064",
        "outputId": "49e42ef6-9fd3-4ca6-86c9-0eb6dd262297"
      },
      "outputs": [
        {
          "output_type": "stream",
          "name": "stdout",
          "text": [
            "아이스 아메리카노\n"
          ]
        }
      ],
      "source": [
        "today_temp = 30\n",
        "\n",
        "if today_temp > 0 :\n",
        "    print(\"아이스 아메리카노\")\n",
        "else :\n",
        "    print(\"따뜻한 아메리카노\")\n",
        "    print(\"맛있게드세요\")\n",
        "elif : today_temp == 0 :\n",
        "    print(\"미지근한 아메리카노\")\n",
        "    print(\"맜있게드세요\")\n"
      ]
    },
    {
      "cell_type": "code",
      "source": [],
      "metadata": {
        "id": "YLMh3D6aBFPF"
      },
      "execution_count": null,
      "outputs": []
    }
  ]
}