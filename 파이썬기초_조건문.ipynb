{
  "nbformat": 4,
  "nbformat_minor": 0,
  "metadata": {
    "colab": {
      "provenance": [],
      "authorship_tag": "ABX9TyNV76LTUjiT+4Dfph2gKSab",
      "include_colab_link": true
    },
    "kernelspec": {
      "name": "python3",
      "display_name": "Python 3"
    },
    "language_info": {
      "name": "python"
    }
  },
  "cells": [
    {
      "cell_type": "markdown",
      "metadata": {
        "id": "view-in-github",
        "colab_type": "text"
      },
      "source": [
        "<a href=\"https://colab.research.google.com/github/MinseaSon/stock_market_analysis/blob/main/%ED%8C%8C%EC%9D%B4%EC%8D%AC%EA%B8%B0%EC%B4%88_%EC%A1%B0%EA%B1%B4%EB%AC%B8.ipynb\" target=\"_parent\"><img src=\"https://colab.research.google.com/assets/colab-badge.svg\" alt=\"Open In Colab\"/></a>"
      ]
    },
    {
      "cell_type": "code",
      "execution_count": 4,
      "metadata": {
        "colab": {
          "base_uri": "https://localhost:8080/"
        },
        "id": "qWkw9AAj8064",
        "outputId": "49e42ef6-9fd3-4ca6-86c9-0eb6dd262297"
      },
      "outputs": [
        {
          "output_type": "stream",
          "name": "stdout",
          "text": [
            "아이스 아메리카노\n"
          ]
        }
      ],
      "source": [
        "today_temp = 30\n",
        "\n",
        "if today_temp > 0 :\n",
        "    print(\"아이스 아메리카노\")\n",
        "else :\n",
        "    print(\"따뜻한 아메리카노\")\n",
        "    print(\"맛있게드세요\")\n",
        "elif : today_temp == 0 :\n",
        "    print(\"미지근한 아메리카노\")\n",
        "    print(\"맜있게드세요\")\n"
      ]
    },
    {
      "cell_type": "code",
      "source": [
        "scores = [80, 90, 70, 65, 85, 95, 90, 80, 75, 80]\n",
        "new_scores = []\n",
        "\n",
        "for s in scores :\n",
        "    new = s + 5\n",
        "    new_scores.append(new)\n",
        "\n",
        "print(new_scores)\n",
        "\n"
      ],
      "metadata": {
        "colab": {
          "base_uri": "https://localhost:8080/"
        },
        "id": "YLMh3D6aBFPF",
        "outputId": "02d5eb77-0958-405d-bbda-87e02598f14d"
      },
      "execution_count": 10,
      "outputs": [
        {
          "output_type": "stream",
          "name": "stdout",
          "text": [
            "[85, 95, 75, 70, 90, 100, 95, 85, 80, 85]\n"
          ]
        }
      ]
    },
    {
      "cell_type": "code",
      "source": [
        "new_score2 = [s + 5 if s < 100 else s for s in scores ]\n",
        "new_score2"
      ],
      "metadata": {
        "colab": {
          "base_uri": "https://localhost:8080/"
        },
        "id": "6qGZFBWFKvtB",
        "outputId": "2063842a-fa83-486b-ae43-3c1977bd7d0f"
      },
      "execution_count": 11,
      "outputs": [
        {
          "output_type": "execute_result",
          "data": {
            "text/plain": [
              "[85, 95, 75, 70, 90, 100, 95, 85, 80, 85]"
            ]
          },
          "metadata": {},
          "execution_count": 11
        }
      ]
    },
    {
      "cell_type": "code",
      "source": [
        "scores = [80, 90, 70, 65, 95, 100, 90, 80, 75, 80]\n",
        "new_score = []\n",
        "index = 0\n",
        "\n",
        "while index < len(scores):\n",
        "    if scores[index] < 100:\n",
        "        new = scores[index] + 5\n",
        "    else:\n",
        "        new = scores[index]\n",
        "    new_score.append(new)\n",
        "    index = index + 1\n",
        "    \n",
        "print(new_score)"
      ],
      "metadata": {
        "colab": {
          "base_uri": "https://localhost:8080/"
        },
        "id": "7NP5k5E3MeU1",
        "outputId": "06c3818d-b7f5-452c-b4b0-38a2513b642c"
      },
      "execution_count": 12,
      "outputs": [
        {
          "output_type": "stream",
          "name": "stdout",
          "text": [
            "[85, 95, 75, 70, 100, 100, 95, 85, 80, 85]\n"
          ]
        }
      ]
    },
    {
      "cell_type": "code",
      "source": [
        "time = 0 # 누적 사용 시간\n",
        "while True:\n",
        "    print('현재 사용량: {}'.format(time))\n",
        "    if time >= 300 :\n",
        "        print('[사용 중단]하루 사용 권장량에 도달 또는 초과하였습니다.')\n",
        "        break\n",
        "    else:\n",
        "        time = time + 50"
      ],
      "metadata": {
        "colab": {
          "base_uri": "https://localhost:8080/"
        },
        "id": "ff07oMjoNOb3",
        "outputId": "5e137a1c-3088-4c8e-923c-04353655baec"
      },
      "execution_count": 13,
      "outputs": [
        {
          "output_type": "stream",
          "name": "stdout",
          "text": [
            "현재 사용량: 0\n",
            "현재 사용량: 50\n",
            "현재 사용량: 100\n",
            "현재 사용량: 150\n",
            "현재 사용량: 200\n",
            "현재 사용량: 250\n",
            "현재 사용량: 300\n",
            "[사용 중단]하루 사용 권장량에 도달 또는 초과하였습니다.\n"
          ]
        }
      ]
    },
    {
      "cell_type": "code",
      "source": [
        "time = 0 # 누적 사용 시간\n",
        "while True:\n",
        "    print('현재 사용량: {}'.format(time))\n",
        "    if time < 150:\n",
        "        print('안전')\n",
        "    if time >= 300:\n",
        "        print('[사용 중단]하루 사용 권장량에 도달 또는 초과하였습니다.')\n",
        "        break\n",
        "    else:\n",
        "        time = time + 50"
      ],
      "metadata": {
        "colab": {
          "base_uri": "https://localhost:8080/"
        },
        "id": "-H1TpJqMNwXS",
        "outputId": "346b732f-5f17-4e5e-db3c-f4b702d8c396"
      },
      "execution_count": 14,
      "outputs": [
        {
          "output_type": "stream",
          "name": "stdout",
          "text": [
            "현재 사용량: 0\n",
            "안전\n",
            "현재 사용량: 50\n",
            "안전\n",
            "현재 사용량: 100\n",
            "안전\n",
            "현재 사용량: 150\n",
            "현재 사용량: 200\n",
            "현재 사용량: 250\n",
            "현재 사용량: 300\n",
            "[사용 중단]하루 사용 권장량에 도달 또는 초과하였습니다.\n"
          ]
        }
      ]
    },
    {
      "cell_type": "code",
      "source": [
        "shopping_dict = {'주문번호': 123, \n",
        "                 '주문자': '김**', \n",
        "                 '주소': '서울 마포구 상암동',\n",
        "                 '주문항목': ['맛좋은 김치', '맛좋은 라면', '시원한 물']}\n",
        "\n",
        "for item in shopping_dict:\n",
        "    print(item)"
      ],
      "metadata": {
        "colab": {
          "base_uri": "https://localhost:8080/"
        },
        "id": "kzZoFbhLO1-c",
        "outputId": "1ddac586-b279-4820-b2bf-7761c76fdcd2"
      },
      "execution_count": 17,
      "outputs": [
        {
          "output_type": "stream",
          "name": "stdout",
          "text": [
            "주문번호\n",
            "주문자\n",
            "주소\n",
            "주문항목\n"
          ]
        }
      ]
    },
    {
      "cell_type": "code",
      "source": [
        "for item in shopping_dict.items():\n",
        "    print(item)\n",
        "('주문번호', 123)"
      ],
      "metadata": {
        "colab": {
          "base_uri": "https://localhost:8080/"
        },
        "id": "gbjimIrMPENA",
        "outputId": "bf09b1ba-457c-497e-9e9c-3938ed67d127"
      },
      "execution_count": 18,
      "outputs": [
        {
          "output_type": "stream",
          "name": "stdout",
          "text": [
            "('주문번호', 123)\n",
            "('주문자', '김**')\n",
            "('주소', '서울 마포구 상암동')\n",
            "('주문항목', ['맛좋은 김치', '맛좋은 라면', '시원한 물'])\n"
          ]
        },
        {
          "output_type": "execute_result",
          "data": {
            "text/plain": [
              "('주문번호', 123)"
            ]
          },
          "metadata": {},
          "execution_count": 18
        }
      ]
    },
    {
      "cell_type": "code",
      "source": [
        "range(9)"
      ],
      "metadata": {
        "colab": {
          "base_uri": "https://localhost:8080/"
        },
        "id": "tFaiKK96PNOY",
        "outputId": "a0a5735c-4c72-44c7-b96f-71291a06c66d"
      },
      "execution_count": 19,
      "outputs": [
        {
          "output_type": "execute_result",
          "data": {
            "text/plain": [
              "range(0, 9)"
            ]
          },
          "metadata": {},
          "execution_count": 19
        }
      ]
    },
    {
      "cell_type": "code",
      "source": [
        "for num in range(9):\n",
        "    print(num)"
      ],
      "metadata": {
        "colab": {
          "base_uri": "https://localhost:8080/"
        },
        "id": "_udf_okNPWfS",
        "outputId": "81f5bfae-7ab0-4e84-d5be-fdd4201441d6"
      },
      "execution_count": 20,
      "outputs": [
        {
          "output_type": "stream",
          "name": "stdout",
          "text": [
            "0\n",
            "1\n",
            "2\n",
            "3\n",
            "4\n",
            "5\n",
            "6\n",
            "7\n",
            "8\n"
          ]
        }
      ]
    },
    {
      "cell_type": "code",
      "source": [
        "for num in range(9):\n",
        "    print(\"3 * {} = {}\".format(num + 1, (num+1)*3))"
      ],
      "metadata": {
        "colab": {
          "base_uri": "https://localhost:8080/"
        },
        "id": "3tE6EKwGPbmj",
        "outputId": "4aa69d80-c909-4cb4-b6f6-49725f71f679"
      },
      "execution_count": 21,
      "outputs": [
        {
          "output_type": "stream",
          "name": "stdout",
          "text": [
            "3 * 1 = 3\n",
            "3 * 2 = 6\n",
            "3 * 3 = 9\n",
            "3 * 4 = 12\n",
            "3 * 5 = 15\n",
            "3 * 6 = 18\n",
            "3 * 7 = 21\n",
            "3 * 8 = 24\n",
            "3 * 9 = 27\n"
          ]
        }
      ]
    },
    {
      "cell_type": "code",
      "source": [
        "name = input(\"이름을 입력하세요:\")\n",
        "print(name + \"님, 안녕하세요\")"
      ],
      "metadata": {
        "colab": {
          "base_uri": "https://localhost:8080/"
        },
        "id": "3MhmO1JiRVDm",
        "outputId": "1c182b8a-ee44-41b0-c287-fdfeb55cec20"
      },
      "execution_count": 22,
      "outputs": [
        {
          "output_type": "stream",
          "name": "stdout",
          "text": [
            "이름을 입력하세요:홍길동\n",
            "홍길동님, 안녕하세요\n"
          ]
        }
      ]
    },
    {
      "cell_type": "code",
      "source": [
        "height = input(\"키를 입력하세요\")\n",
        "weight = (float(height) - 100) * 0.9\n",
        "\n",
        "print(\"권장 체중은 \" + str(weight) + \"kg 입니다.\")"
      ],
      "metadata": {
        "colab": {
          "base_uri": "https://localhost:8080/"
        },
        "id": "0_ZqfC5xR-ud",
        "outputId": "65a909ff-63f8-4cb2-993c-ebc0b07e5396"
      },
      "execution_count": 25,
      "outputs": [
        {
          "output_type": "stream",
          "name": "stdout",
          "text": [
            "키를 입력하세요161\n",
            "권장 체중은 54.9kg 입니다.\n"
          ]
        }
      ]
    },
    {
      "cell_type": "code",
      "source": [
        "print(\"원숭이 엉덩이는 빨개 \")\n",
        "print(\"빨가면 사과\")"
      ],
      "metadata": {
        "colab": {
          "base_uri": "https://localhost:8080/"
        },
        "id": "RpzHh9dBS-Q2",
        "outputId": "1957b572-c726-497b-ffd2-77319629c24c"
      },
      "execution_count": 26,
      "outputs": [
        {
          "output_type": "stream",
          "name": "stdout",
          "text": [
            "원숭이 엉덩이는 빨개 \n",
            "빨가면 사과\n"
          ]
        }
      ]
    },
    {
      "cell_type": "code",
      "source": [
        "print(\"원숭이 엉덩이는 빨개 \", end=\"\")\n",
        "print(\"빨가면 사과\")"
      ],
      "metadata": {
        "colab": {
          "base_uri": "https://localhost:8080/"
        },
        "id": "ydTtGqibTDm4",
        "outputId": "e48af772-dd40-4a06-b656-4ce6b867bc20"
      },
      "execution_count": 27,
      "outputs": [
        {
          "output_type": "stream",
          "name": "stdout",
          "text": [
            "원숭이 엉덩이는 빨개 빨가면 사과\n"
          ]
        }
      ]
    },
    {
      "cell_type": "code",
      "source": [
        "print(\"나는 {0}, {1}을 먹고 싶다. 우리집엔 {1}이 배달되지 않아 슬프다.\".format(\"피자\", \"치킨\"))"
      ],
      "metadata": {
        "colab": {
          "base_uri": "https://localhost:8080/"
        },
        "id": "TP0rBKjITUa1",
        "outputId": "421f617e-7255-462a-b8c4-30338b5ee0c2"
      },
      "execution_count": 30,
      "outputs": [
        {
          "output_type": "stream",
          "name": "stdout",
          "text": [
            "나는 피자, 치킨을 먹고 싶다. 우리집엔 치킨이 배달되지 않아 슬프다.\n"
          ]
        }
      ]
    },
    {
      "cell_type": "code",
      "source": [
        "f = open(\"abc.txt\", \"w\") # 쓰기모드로 파일 열기\n",
        "f.write(\"A B C D E F G \")\n",
        "f.close()"
      ],
      "metadata": {
        "id": "Bnn1lBKZTzEq"
      },
      "execution_count": 32,
      "outputs": []
    },
    {
      "cell_type": "code",
      "source": [
        "with open(\"일기.txt\", \"w\") as f:\n",
        "    f.write(\"2020년 3월 12일 금요일\\n\")\n",
        "\n",
        "with open(\"일기.txt\", \"a\") as f:\n",
        "    f.write(\"날씨 맑음\")\n",
        "\n",
        "with open(\"일기.txt\", \"r\") as f:\n",
        "    print(f.read())"
      ],
      "metadata": {
        "colab": {
          "base_uri": "https://localhost:8080/"
        },
        "id": "UnVFM7OsUEpN",
        "outputId": "289125cf-5e79-4b1a-d108-2f3bcf1239db"
      },
      "execution_count": 33,
      "outputs": [
        {
          "output_type": "stream",
          "name": "stdout",
          "text": [
            "2020년 3월 12일 금요일\n",
            "날씨 맑음\n"
          ]
        }
      ]
    },
    {
      "cell_type": "code",
      "source": [],
      "metadata": {
        "id": "TfyXFAt3UYJ1"
      },
      "execution_count": null,
      "outputs": []
    }
  ]
}