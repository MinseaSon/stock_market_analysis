{
  "nbformat": 4,
  "nbformat_minor": 0,
  "metadata": {
    "colab": {
      "provenance": [],
      "authorship_tag": "ABX9TyM1TTVmX4dmcX9kNa2ahThY",
      "include_colab_link": true
    },
    "kernelspec": {
      "name": "python3",
      "display_name": "Python 3"
    },
    "language_info": {
      "name": "python"
    }
  },
  "cells": [
    {
      "cell_type": "markdown",
      "metadata": {
        "id": "view-in-github",
        "colab_type": "text"
      },
      "source": [
        "<a href=\"https://colab.research.google.com/github/MinseaSon/stock_market_analysis/blob/main/%ED%8C%8C%EC%9D%B4%EC%8D%AC%EA%B8%B0%EC%B4%88_%EB%AA%A8%EB%93%88_%ED%81%B4%EB%9E%98%EC%8A%A4_%ED%8C%A8%ED%82%A4%EC%A7%80.ipynb\" target=\"_parent\"><img src=\"https://colab.research.google.com/assets/colab-badge.svg\" alt=\"Open In Colab\"/></a>"
      ]
    },
    {
      "cell_type": "markdown",
      "source": [
        "class(클래스)\n",
        "- instance(인스턴스)를 생성\n",
        "- attribut(속성) + method(매서드)\n",
        "  - attribute :특징\n",
        "  - method : 동작"
      ],
      "metadata": {
        "id": "iPjQMhIGVFpR"
      }
    },
    {
      "cell_type": "code",
      "source": [
        "import diet\n",
        "diet.get_recommend_weight(160, False)"
      ],
      "metadata": {
        "colab": {
          "base_uri": "https://localhost:8080/"
        },
        "id": "DASnli_FXOV0",
        "outputId": "20e21426-3904-4661-ae6f-2058042e700e"
      },
      "execution_count": 6,
      "outputs": [
        {
          "output_type": "stream",
          "name": "stdout",
          "text": [
            "권장 체중은 60kg 입니다\n"
          ]
        },
        {
          "output_type": "execute_result",
          "data": {
            "text/plain": [
              "60"
            ]
          },
          "metadata": {},
          "execution_count": 6
        }
      ]
    },
    {
      "cell_type": "code",
      "source": [
        "import diet as dd\n",
        "dd.get_recommend_weight(160, False)"
      ],
      "metadata": {
        "colab": {
          "base_uri": "https://localhost:8080/"
        },
        "id": "PhqMGrFCXYH-",
        "outputId": "0e14f41c-bead-4485-aaa5-1fbcbbd1ca41"
      },
      "execution_count": 7,
      "outputs": [
        {
          "output_type": "stream",
          "name": "stdout",
          "text": [
            "권장 체중은 60kg 입니다\n"
          ]
        },
        {
          "output_type": "execute_result",
          "data": {
            "text/plain": [
              "60"
            ]
          },
          "metadata": {},
          "execution_count": 7
        }
      ]
    },
    {
      "cell_type": "code",
      "source": [
        "dd.print_valid_menu()"
      ],
      "metadata": {
        "colab": {
          "base_uri": "https://localhost:8080/"
        },
        "id": "Eb5SncVnXd16",
        "outputId": "54472ef3-34fd-4ed1-b6c3-5fd2427fc47d"
      },
      "execution_count": 8,
      "outputs": [
        {
          "output_type": "stream",
          "name": "stdout",
          "text": [
            "고구마:O\n",
            "떡볶이:X\n",
            "라면:X\n"
          ]
        }
      ]
    },
    {
      "cell_type": "code",
      "source": [
        "dd.menu"
      ],
      "metadata": {
        "colab": {
          "base_uri": "https://localhost:8080/"
        },
        "id": "6jhkGu8AXiCc",
        "outputId": "52047bd8-75d2-41c0-e02d-4c414735a007"
      },
      "execution_count": 9,
      "outputs": [
        {
          "output_type": "execute_result",
          "data": {
            "text/plain": [
              "{'고구마': 200, '떡볶이': 600, '라면': 800}"
            ]
          },
          "metadata": {},
          "execution_count": 9
        }
      ]
    },
    {
      "cell_type": "code",
      "source": [
        "from diet import get_recommend_weight, print_valid_menu\n",
        "get_recommend_weight(160, False)"
      ],
      "metadata": {
        "colab": {
          "base_uri": "https://localhost:8080/"
        },
        "id": "q7qeTFRCXlxR",
        "outputId": "e3932349-21f5-4bad-e348-05bb3cb9e370"
      },
      "execution_count": 10,
      "outputs": [
        {
          "output_type": "stream",
          "name": "stdout",
          "text": [
            "권장 체중은 60kg 입니다\n"
          ]
        },
        {
          "output_type": "execute_result",
          "data": {
            "text/plain": [
              "60"
            ]
          },
          "metadata": {},
          "execution_count": 10
        }
      ]
    },
    {
      "cell_type": "code",
      "source": [
        "print_valid_menu()"
      ],
      "metadata": {
        "colab": {
          "base_uri": "https://localhost:8080/"
        },
        "id": "1gjONgmNXwXm",
        "outputId": "2cb39990-f461-4fe9-fce2-6da4ff25e500"
      },
      "execution_count": 11,
      "outputs": [
        {
          "output_type": "stream",
          "name": "stdout",
          "text": [
            "고구마:O\n",
            "떡볶이:X\n",
            "라면:X\n"
          ]
        }
      ]
    },
    {
      "cell_type": "code",
      "source": [],
      "metadata": {
        "id": "fVxUmMq-YoPy"
      },
      "execution_count": null,
      "outputs": []
    }
  ]
}