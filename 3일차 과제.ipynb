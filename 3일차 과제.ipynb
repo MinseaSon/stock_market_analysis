{
  "nbformat": 4,
  "nbformat_minor": 0,
  "metadata": {
    "colab": {
      "provenance": [],
      "authorship_tag": "ABX9TyNg5M1uoM3b0z1SyRtv5v8N",
      "include_colab_link": true
    },
    "kernelspec": {
      "name": "python3",
      "display_name": "Python 3"
    },
    "language_info": {
      "name": "python"
    }
  },
  "cells": [
    {
      "cell_type": "markdown",
      "metadata": {
        "id": "view-in-github",
        "colab_type": "text"
      },
      "source": [
        "<a href=\"https://colab.research.google.com/github/MinseaSon/stock_market_analysis/blob/main/3%EC%9D%BC%EC%B0%A8%20%EA%B3%BC%EC%A0%9C.ipynb\" target=\"_parent\"><img src=\"https://colab.research.google.com/assets/colab-badge.svg\" alt=\"Open In Colab\"/></a>"
      ]
    },
    {
      "cell_type": "code",
      "execution_count": 8,
      "metadata": {
        "colab": {
          "base_uri": "https://localhost:8080/"
        },
        "id": "irbodY7j_NL9",
        "outputId": "26ba5f75-4de7-451a-be82-73567b1286c3"
      },
      "outputs": [
        {
          "output_type": "stream",
          "name": "stdout",
          "text": [
            "*\n",
            "**\n",
            "***\n",
            "****\n",
            "*****\n"
          ]
        }
      ],
      "source": [
        "i=0\n",
        "while True:\n",
        "  # i를 하나씩 증가시킨다\n",
        "  i = i + 1\n",
        "\n",
        "  # i의 개수만큼 *를 출력한다\n",
        "  print('*' * i)\n",
        "\n",
        "  # irk 5보다 큰지 아닌지 체크, i가 5보다 크면, 반복문 종료\n",
        "  if i >= 5:\n",
        "        break\n",
        "  \n",
        "#결과값\n",
        "#*\n",
        "#**\n",
        "#***\n",
        "#****\n",
        "#*****\n",
        "\n"
      ]
    },
    {
      "cell_type": "code",
      "source": [
        "A = [70, 60, 55, 75,  95, 90, 80, 80, 85, 100]\n",
        "\n",
        "# '코드를 작성하시오'\n",
        "sum = 0 # A리스트에 담긴 아이템의 합계를 저장하기 위한 변수\n",
        "for i in A:\n",
        "    sum = sum + i\n",
        "\n",
        "mean = sum / len(A)\n",
        "print(mean)\n",
        "\n",
        "#결과값\n",
        "#79.0"
      ],
      "metadata": {
        "colab": {
          "base_uri": "https://localhost:8080/"
        },
        "id": "0ezN30SRAW5v",
        "outputId": "ad033243-91c1-4fa6-b6fd-546980243f85"
      },
      "execution_count": 11,
      "outputs": [
        {
          "output_type": "stream",
          "name": "stdout",
          "text": [
            "79.0\n"
          ]
        }
      ]
    }
  ]
}